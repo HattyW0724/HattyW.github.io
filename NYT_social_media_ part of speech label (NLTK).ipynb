{
 "cells": [
  {
   "cell_type": "code",
   "execution_count": 8,
   "metadata": {},
   "outputs": [
    {
     "name": "stdout",
     "output_type": "stream",
     "text": [
      "'';157\n",
      "media;65\n",
      "social;63\n",
      "facebook;27\n",
      "people;18\n",
      "week;13\n",
      "twitter;13\n",
      "news;11\n",
      "tech;11\n",
      "times;11\n",
      "company;11\n",
      "instagram;10\n",
      "video;10\n",
      "internet;10\n",
      "president;9\n",
      "trump;9\n",
      "york;9\n",
      "women;9\n",
      "platforms;8\n",
      "month;8\n",
      "health;7\n",
      "industry;7\n",
      "tuesday;7\n",
      "online;7\n",
      "ago;7\n"
     ]
    }
   ],
   "source": [
    "\n",
    "import sys\n",
    "import codecs\n",
    "import nltk\n",
    "from nltk.corpus import stopwords\n",
    "from nltk.corpus import brown\n",
    "import numpy as np\n",
    "\n",
    "text = open('/Users/wangqile/topics_social_media.txt','rb').read()\n",
    "words = nltk.word_tokenize(text.decode('utf-8').lower())\n",
    "english_punctuations = [',', '.', ':', ';', '?', '(', ')', '[', ']', '&', '!', '*', '@', '#', '$', '%','{','}']\n",
    "\n",
    "symbols=[\"\\\\\",'-','``']\n",
    "\n",
    "default_stopwords = set(stopwords.words('english'))\n",
    "stopwords_file = './stopwords.txt'\n",
    "custom_stopwords = set(codecs.open(stopwords_file, 'r', 'utf-8').read().splitlines())\n",
    "english_stops = default_stopwords | custom_stopwords\n",
    "\n",
    "words = [word for word in words if len(word) > 1]\n",
    "words = [word for word in words if word not in symbols]\n",
    "words = [word for word in words if word not in english_punctuations]\n",
    "words = [word for word in words if not word.isnumeric()]\n",
    "words = [word for word in words if word not in english_stops]\n",
    "\n",
    "fdist = nltk.FreqDist(words)\n",
    "for word, frequency in fdist.most_common(25):\n",
    "    print(u'{};{}'.format(word, frequency))"
   ]
  },
  {
   "cell_type": "code",
   "execution_count": 9,
   "metadata": {},
   "outputs": [],
   "source": [
    "import csv\n",
    "import pandas as pd\n",
    "\n",
    "with open('wf2.csv','r') as csvfile:  # -> 建立csv ; csvfile 为自拟名\n",
    "    reader = csv.reader(csvfile)\n",
    "    rows = [row for row in reader]\n",
    "    columns = [row[1] for row in rows]"
   ]
  },
  {
   "cell_type": "code",
   "execution_count": 10,
   "metadata": {},
   "outputs": [],
   "source": [
    "import nltk\n",
    "\n",
    "text = '\\t'.join(columns)\n",
    "word = nltk.word_tokenize(text)\n",
    "wt = nltk.pos_tag(word) #词性标注"
   ]
  },
  {
   "cell_type": "code",
   "execution_count": 12,
   "metadata": {},
   "outputs": [],
   "source": [
    "header=['keywords','wordtag'] \n",
    "wordtags = pd.DataFrame(columns=header, data=wt) \n",
    "wordtags.to_csv('/Users/wangqile/wt.csv',encoding = 'utf-8') "
   ]
  },
  {
   "cell_type": "code",
   "execution_count": null,
   "metadata": {},
   "outputs": [],
   "source": []
  },
  {
   "cell_type": "code",
   "execution_count": null,
   "metadata": {},
   "outputs": [],
   "source": []
  }
 ],
 "metadata": {
  "kernelspec": {
   "display_name": "Python 3",
   "language": "python",
   "name": "python3"
  },
  "language_info": {
   "codemirror_mode": {
    "name": "ipython",
    "version": 3
   },
   "file_extension": ".py",
   "mimetype": "text/x-python",
   "name": "python",
   "nbconvert_exporter": "python",
   "pygments_lexer": "ipython3",
   "version": "3.6.4"
  }
 },
 "nbformat": 4,
 "nbformat_minor": 2
}
